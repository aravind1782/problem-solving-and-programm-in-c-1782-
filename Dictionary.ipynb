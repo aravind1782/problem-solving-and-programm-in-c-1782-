{
  "nbformat": 4,
  "nbformat_minor": 0,
  "metadata": {
    "colab": {
      "name": "Dictionary.ipynb",
      "provenance": [],
      "collapsed_sections": [],
      "include_colab_link": true
    },
    "kernelspec": {
      "name": "python3",
      "display_name": "Python 3"
    },
    "language_info": {
      "name": "python"
    }
  },
  "cells": [
    {
      "cell_type": "markdown",
      "metadata": {
        "id": "view-in-github",
        "colab_type": "text"
      },
      "source": [
        "<a href=\"https://colab.research.google.com/github/aravind1782/problem-solving-and-programm-in-c-1782-/blob/main/Dictionary.ipynb\" target=\"_parent\"><img src=\"https://colab.research.google.com/assets/colab-badge.svg\" alt=\"Open In Colab\"/></a>"
      ]
    },
    {
      "cell_type": "code",
      "execution_count": null,
      "metadata": {
        "colab": {
          "base_uri": "https://localhost:8080/"
        },
        "id": "XzbTm_DqS3yA",
        "outputId": "10c1b097-6287-404d-8c08-2656da9a678b"
      },
      "outputs": [
        {
          "output_type": "stream",
          "name": "stdout",
          "text": [
            "{'name': 'chaitu', 'college': 'gitam', 'course': 'btech'}\n"
          ]
        }
      ],
      "source": [
        "## Printing a dictionary\n",
        "details={'name':'chaitu','college':'gitam','course':'btech'}\n",
        "print(details)"
      ]
    },
    {
      "cell_type": "code",
      "source": [
        "## Printing values by using their key\n",
        "details={'name':'chaitu','college':'gitam','course':'btech'}\n",
        "print(details['name'])\n",
        "print(details['college'])\n",
        "print(details['course'])"
      ],
      "metadata": {
        "colab": {
          "base_uri": "https://localhost:8080/"
        },
        "id": "R169OyIZTXGS",
        "outputId": "95d22324-9a7c-401e-ccd9-9dc1e76668dc"
      },
      "execution_count": null,
      "outputs": [
        {
          "output_type": "stream",
          "name": "stdout",
          "text": [
            "chaitu\n",
            "gitam\n",
            "btech\n"
          ]
        }
      ]
    },
    {
      "cell_type": "code",
      "source": [
        "## Duplicates not allowed\n",
        "details={'name':'chaitu','college':'gitam','course':'btech','course':'btech cse'}\n",
        "print(details)"
      ],
      "metadata": {
        "colab": {
          "base_uri": "https://localhost:8080/"
        },
        "id": "-kghGwm-T4LA",
        "outputId": "1d25d834-9e10-478c-8b84-841ee8e4896a"
      },
      "execution_count": null,
      "outputs": [
        {
          "output_type": "stream",
          "name": "stdout",
          "text": [
            "{'name': 'chaitu', 'college': 'gitam', 'course': 'btech cse'}\n"
          ]
        }
      ]
    },
    {
      "cell_type": "code",
      "source": [
        "## Length of dictionary\n",
        "details={'name':'chaitu','college':'gitam','course':'btech'}\n",
        "print(len(details))"
      ],
      "metadata": {
        "colab": {
          "base_uri": "https://localhost:8080/"
        },
        "id": "4tyfIyEAUIVT",
        "outputId": "b002bad5-1687-44a3-cc44-9c841cdeb706"
      },
      "execution_count": null,
      "outputs": [
        {
          "output_type": "stream",
          "name": "stdout",
          "text": [
            "3\n"
          ]
        }
      ]
    },
    {
      "cell_type": "code",
      "source": [
        "## Printing only keys in a dictionary\n",
        "details={'name':'chaitu','college':'gitam','course':'btech'}\n",
        "print(details.keys())\n",
        "## Printing only values\n",
        "print(details.values())"
      ],
      "metadata": {
        "colab": {
          "base_uri": "https://localhost:8080/"
        },
        "id": "EuIdF-DZUSJm",
        "outputId": "247d50d7-343b-4b79-d24b-c63dea060174"
      },
      "execution_count": null,
      "outputs": [
        {
          "output_type": "stream",
          "name": "stdout",
          "text": [
            "dict_keys(['name', 'college', 'course'])\n",
            "dict_values(['chaitu', 'gitam', 'btech'])\n"
          ]
        }
      ]
    },
    {
      "cell_type": "code",
      "source": [
        "## Adding an element\n",
        "details={'name':'chaitu','college':'gitam','course':'btech'}\n",
        "details['marks']='93'\n",
        "print(details)"
      ],
      "metadata": {
        "colab": {
          "base_uri": "https://localhost:8080/"
        },
        "id": "DTTjDZr3UvwS",
        "outputId": "eb0c02f8-128a-4bbe-e6a0-1fa68cab1cec"
      },
      "execution_count": null,
      "outputs": [
        {
          "output_type": "stream",
          "name": "stdout",
          "text": [
            "{'name': 'chaitu', 'college': 'gitam', 'course': 'btech', 'marks': '93'}\n"
          ]
        }
      ]
    },
    {
      "cell_type": "code",
      "source": [
        "## Adding an element\n",
        "details={'name':'chaitu','college':'gitam','course':'btech'}\n",
        "details['marks']='93'\n",
        "print(details)"
      ],
      "metadata": {
        "colab": {
          "base_uri": "https://localhost:8080/"
        },
        "id": "m2g1JI7lVTpe",
        "outputId": "fbdfb597-6a02-4e9d-bed2-565696e8076e"
      },
      "execution_count": null,
      "outputs": [
        {
          "output_type": "stream",
          "name": "stdout",
          "text": [
            "{'name': 'chaitu', 'college': 'gitam', 'course': 'btech', 'marks': '93'}\n"
          ]
        }
      ]
    },
    {
      "cell_type": "code",
      "source": [
        "## Finding an element present in a dictionary\n",
        "details={'name':'chaitu','college':'gitam','course':'btech'}\n",
        "print('name' in details)"
      ],
      "metadata": {
        "colab": {
          "base_uri": "https://localhost:8080/"
        },
        "id": "U2sBWSJfVoHe",
        "outputId": "a36a219e-114e-4245-ed07-d61530072356"
      },
      "execution_count": null,
      "outputs": [
        {
          "output_type": "stream",
          "name": "stdout",
          "text": [
            "True\n"
          ]
        }
      ]
    },
    {
      "cell_type": "code",
      "source": [
        "## Changing values using update\n",
        "details={'name':'chaitu','college':'gitam','course':'btech'}\n",
        "details.update({'course':'btechcse'})\n",
        "print(details)"
      ],
      "metadata": {
        "colab": {
          "base_uri": "https://localhost:8080/"
        },
        "id": "C999jREbWdlY",
        "outputId": "666f3c65-ea49-4476-ec75-51309e97591f"
      },
      "execution_count": null,
      "outputs": [
        {
          "output_type": "stream",
          "name": "stdout",
          "text": [
            "{'name': 'chaitu', 'college': 'gitam', 'course': 'btechcse'}\n"
          ]
        }
      ]
    },
    {
      "cell_type": "code",
      "source": [
        "## Remove an item\n",
        "details={'name':'chaitu','college':'gitam','course':'btech'}\n",
        "details.pop('course')\n",
        "print(details)\n",
        "details.popitem()\n",
        "print(details)"
      ],
      "metadata": {
        "colab": {
          "base_uri": "https://localhost:8080/"
        },
        "id": "dUF75VVGW1No",
        "outputId": "7a962759-07e4-494c-a5ff-96673fb2eba5"
      },
      "execution_count": null,
      "outputs": [
        {
          "output_type": "stream",
          "name": "stdout",
          "text": [
            "{'name': 'chaitu', 'college': 'gitam'}\n",
            "{'name': 'chaitu'}\n"
          ]
        }
      ]
    },
    {
      "cell_type": "code",
      "source": [
        "## Clearing a dictionary\n",
        "details={'name':'chaitu','college':'gitam','course':'btech'}\n",
        "details.clear()\n",
        "print(details)"
      ],
      "metadata": {
        "colab": {
          "base_uri": "https://localhost:8080/"
        },
        "id": "Xq-aX3X5XHss",
        "outputId": "c0538ed7-a313-4d78-ff9e-51841ed3158d"
      },
      "execution_count": null,
      "outputs": [
        {
          "output_type": "stream",
          "name": "stdout",
          "text": [
            "{}\n"
          ]
        }
      ]
    },
    {
      "cell_type": "code",
      "source": [
        "## Printing keys usimg for loop\n",
        "details={'name':'chaitu','college':'gitam','course':'btech'}\n",
        "for i in details:\n",
        "  print(i)"
      ],
      "metadata": {
        "colab": {
          "base_uri": "https://localhost:8080/"
        },
        "id": "rBmezEUkXXdA",
        "outputId": "11ed3344-372f-49ec-b3ee-5f52fa2ea5ec"
      },
      "execution_count": null,
      "outputs": [
        {
          "output_type": "stream",
          "name": "stdout",
          "text": [
            "name\n",
            "college\n",
            "course\n"
          ]
        }
      ]
    },
    {
      "cell_type": "code",
      "source": [
        "## Printing values using for loop\n",
        "details={'name':'chaitu','college':'gitam','course':'btech'}\n",
        "for i in details:\n",
        "  print(details[i])"
      ],
      "metadata": {
        "colab": {
          "base_uri": "https://localhost:8080/"
        },
        "id": "9N-zrPo8Xh61",
        "outputId": "6a3cfbf0-707a-4c8b-a430-d3a1c1ca8b93"
      },
      "execution_count": null,
      "outputs": [
        {
          "output_type": "stream",
          "name": "stdout",
          "text": [
            "chaitu\n",
            "gitam\n",
            "btech\n"
          ]
        }
      ]
    },
    {
      "cell_type": "code",
      "source": [
        "## Copying a dictionary\n",
        "details={'name':'chaitu','college':'gitam','course':'btech'}\n",
        "sd=details.copy()\n",
        "print(sd)"
      ],
      "metadata": {
        "colab": {
          "base_uri": "https://localhost:8080/"
        },
        "id": "pc0iqwbUX1gZ",
        "outputId": "3752042b-88e5-4097-dd15-c0baafebacd8"
      },
      "execution_count": null,
      "outputs": [
        {
          "output_type": "stream",
          "name": "stdout",
          "text": [
            "{'name': 'chaitu', 'college': 'gitam', 'course': 'btech'}\n"
          ]
        }
      ]
    },
    {
      "cell_type": "code",
      "source": [
        "## Printing all values as same\n",
        "a={'key1','key2','key3'}\n",
        "b='values'\n",
        "c=dict.fromkeys(a,b)\n",
        "print(c)"
      ],
      "metadata": {
        "colab": {
          "base_uri": "https://localhost:8080/"
        },
        "id": "4VlYLsHsUr5S",
        "outputId": "c9168a63-be71-49b2-f510-11030e8540f4"
      },
      "execution_count": null,
      "outputs": [
        {
          "output_type": "stream",
          "name": "stdout",
          "text": [
            "{'key2': 'values', 'key3': 'values', 'key1': 'values'}\n"
          ]
        }
      ]
    },
    {
      "cell_type": "code",
      "source": [
        "## Items in an orderd pair\n",
        "details={'name':'chaitu','college':'gitam','course':'btech'}\n",
        "a=details.items()\n",
        "print(a)"
      ],
      "metadata": {
        "colab": {
          "base_uri": "https://localhost:8080/"
        },
        "id": "vnwN2WHTVK_0",
        "outputId": "7bb4ca09-4fec-44e3-d686-7b87d9d8f683"
      },
      "execution_count": null,
      "outputs": [
        {
          "output_type": "stream",
          "name": "stdout",
          "text": [
            "dict_items([('name', 'chaitu'), ('college', 'gitam'), ('course', 'btech')])\n"
          ]
        }
      ]
    }
  ]
}
{
  "nbformat": 4,
  "nbformat_minor": 0,
  "metadata": {
    "colab": {
      "name": "strings..ipynb",
      "provenance": [],
      "collapsed_sections": [
        "CSHOLbigdeeR",
        "EE4VlJm0Y598",
        "idY7tQsdZCQ5",
        "oFHISBSBaUf-"
      ],
      "authorship_tag": "ABX9TyMt5kKFrfA69jkKbW6VNwU2",
      "include_colab_link": true
    },
    "kernelspec": {
      "name": "python3",
      "display_name": "Python 3"
    },
    "language_info": {
      "name": "python"
    }
  },
  "cells": [
    {
      "cell_type": "markdown",
      "metadata": {
        "id": "view-in-github",
        "colab_type": "text"
      },
      "source": [
        "<a href=\"https://colab.research.google.com/github/aravind1782/problem-solving-and-programm-in-c-1782-/blob/main/strings_.ipynb\" target=\"_parent\"><img src=\"https://colab.research.google.com/assets/colab-badge.svg\" alt=\"Open In Colab\"/></a>"
      ]
    },
    {
      "cell_type": "code",
      "source": [
        "fruit=('apple','banana','orange','guava')\n",
        "\n",
        "print(fruit)\n",
        "print(fruit[0])\n",
        "print(fruit[-1])\n",
        "print(fruit[-2])\n",
        "print(fruit[0:2])\n",
        "print(fruit[0:])\n"
      ],
      "metadata": {
        "colab": {
          "base_uri": "https://localhost:8080/"
        },
        "id": "UgqnwwDBWdtS",
        "outputId": "5231080e-74cd-4369-e7d0-e597e53bb0c9"
      },
      "execution_count": null,
      "outputs": [
        {
          "output_type": "stream",
          "name": "stdout",
          "text": [
            "('apple', 'banana', 'orange', 'guava')\n",
            "apple\n",
            "guava\n",
            "orange\n",
            "('apple', 'banana')\n",
            "('apple', 'banana', 'orange', 'guava')\n"
          ]
        }
      ]
    },
    {
      "cell_type": "markdown",
      "source": [
        "##append"
      ],
      "metadata": {
        "id": "sNeWQiV3aHF4"
      }
    },
    {
      "cell_type": "code",
      "source": [
        "fruit=['apple','banana','guava','pineapple','watermelon']\n",
        "print(fruit)\n",
        "fruit.append('mango')\n",
        "print(fruit)\n",
        "fruit.insert(2,'kiwi')\n",
        "print(fruit)\n"
      ],
      "metadata": {
        "colab": {
          "base_uri": "https://localhost:8080/"
        },
        "id": "f9Q9HD5gaOBc",
        "outputId": "5ff6065c-4a61-488f-961a-d61b17064306"
      },
      "execution_count": null,
      "outputs": [
        {
          "output_type": "stream",
          "name": "stdout",
          "text": [
            "['apple', 'banana', 'guava', 'pineapple', 'watermelon']\n",
            "['apple', 'banana', 'guava', 'pineapple', 'watermelon', 'mango']\n",
            "['apple', 'banana', 'kiwi', 'guava', 'pineapple', 'watermelon', 'mango']\n"
          ]
        }
      ]
    },
    {
      "cell_type": "markdown",
      "source": [
        "##extend\n"
      ],
      "metadata": {
        "id": "CSHOLbigdeeR"
      }
    },
    {
      "cell_type": "code",
      "source": [
        "fruit=['apple','banana','guava','pineapple','watermelon']\n",
        "fruits=['orange',]\n",
        "print(\"delicious\")\n",
        "fruit.extend(fruits)\n",
        "print(fruit)\n",
        "\n",
        "\n"
      ],
      "metadata": {
        "colab": {
          "base_uri": "https://localhost:8080/"
        },
        "id": "mNM0z1l5drwH",
        "outputId": "a4b891f7-7424-4c4c-d9a4-1d0b2ec0d7d5"
      },
      "execution_count": null,
      "outputs": [
        {
          "output_type": "stream",
          "name": "stdout",
          "text": [
            "delicious\n",
            "['apple', 'banana', 'guava', 'pineapple', 'watermelon', 'orange']\n"
          ]
        }
      ]
    },
    {
      "cell_type": "code",
      "source": [
        "##removing"
      ],
      "metadata": {
        "id": "biDACpEQfCiF"
      },
      "execution_count": null,
      "outputs": []
    },
    {
      "cell_type": "code",
      "source": [
        "fruit=['apple','banana','guava','pineapple','watermelon']\n",
        "print(fruit)\n",
        "fruit.remove('apple')\n",
        "print(fruit)"
      ],
      "metadata": {
        "colab": {
          "base_uri": "https://localhost:8080/"
        },
        "id": "pET3mUHnfJK2",
        "outputId": "e09180b6-1494-43e6-a3b4-5838adaa7984"
      },
      "execution_count": null,
      "outputs": [
        {
          "output_type": "stream",
          "name": "stdout",
          "text": [
            "['apple', 'banana', 'guava', 'pineapple', 'watermelon']\n",
            "['banana', 'guava', 'pineapple', 'watermelon']\n"
          ]
        }
      ]
    },
    {
      "cell_type": "code",
      "source": [
        "num=[3,4,5,6,1,2]\n",
        "num.sort()\n",
        "print(num)\n",
        "num.sort(reverse=True)\n",
        "print(num)"
      ],
      "metadata": {
        "colab": {
          "base_uri": "https://localhost:8080/"
        },
        "id": "V7vhH1KxjbTW",
        "outputId": "5d5aa81a-9ad3-46bf-9db7-3b2258898745"
      },
      "execution_count": null,
      "outputs": [
        {
          "output_type": "stream",
          "name": "stdout",
          "text": [
            "[1, 2, 3, 4, 5, 6]\n",
            "[6, 5, 4, 3, 2, 1]\n"
          ]
        }
      ]
    },
    {
      "cell_type": "markdown",
      "source": [
        "pop"
      ],
      "metadata": {
        "id": "8PrJ91CylmJN"
      }
    },
    {
      "cell_type": "code",
      "source": [
        "details=['name','rollno','marks']\n",
        "## Printing\n",
        "print(details)\n",
        "## Inserting\n",
        "details.insert(3,'address')\n",
        "print(details)\n",
        "## Adding\n",
        "details.append('village')\n",
        "print(details)\n",
        "## Removing\n",
        "details.remove('marks')\n",
        "print(details)\n",
        "## Pop\n",
        "details.pop(2)\n",
        "print(details)\n",
        "## Delete\n",
        "del details[1]\n",
        "print(details)"
      ],
      "metadata": {
        "colab": {
          "base_uri": "https://localhost:8080/"
        },
        "id": "uzk2MZtTln2V",
        "outputId": "61783b39-1591-4c5d-c196-1c4b86eff37b"
      },
      "execution_count": null,
      "outputs": [
        {
          "output_type": "stream",
          "name": "stdout",
          "text": [
            "['name', 'rollno', 'marks']\n",
            "['name', 'rollno', 'marks', 'address']\n",
            "['name', 'rollno', 'marks', 'address', 'village']\n",
            "['name', 'rollno', 'address', 'village']\n",
            "['name', 'rollno', 'village']\n",
            "['name', 'village']\n"
          ]
        }
      ]
    },
    {
      "cell_type": "code",
      "source": [
        "alphabet=['a','b','C','d','B']\n",
        "alphabet.sort()\n",
        "print(alphabet)\n",
        "alphabet.sort(reverse=True)\n",
        "print(alphabet)"
      ],
      "metadata": {
        "colab": {
          "base_uri": "https://localhost:8080/"
        },
        "id": "m7uMyaAymELL",
        "outputId": "a0463ad0-6e61-4a2d-917b-234265f31915"
      },
      "execution_count": null,
      "outputs": [
        {
          "output_type": "stream",
          "name": "stdout",
          "text": [
            "['B', 'C', 'a', 'b', 'd']\n",
            "['d', 'b', 'a', 'C', 'B']\n"
          ]
        }
      ]
    },
    {
      "cell_type": "code",
      "source": [
        "## lenght\n",
        "num=['05','07,','22','08','64','55']\n",
        "print(num)\n",
        "print(len(num))"
      ],
      "metadata": {
        "colab": {
          "base_uri": "https://localhost:8080/"
        },
        "id": "gnT4CYt4oBRX",
        "outputId": "7a015384-af6b-4712-eeec-e472d339b0d6"
      },
      "execution_count": null,
      "outputs": [
        {
          "output_type": "stream",
          "name": "stdout",
          "text": [
            "['05', '07,', '22', '08', '64', '55']\n",
            "6\n"
          ]
        }
      ]
    },
    {
      "cell_type": "code",
      "source": [
        "## reverse\n",
        "num=[1,3,8,99,45]\n",
        "num.reverse()\n",
        "print(num)"
      ],
      "metadata": {
        "colab": {
          "base_uri": "https://localhost:8080/"
        },
        "id": "eoMULlMctmul",
        "outputId": "5b80f6a8-ffb6-4552-b6af-746f142f1c06"
      },
      "execution_count": null,
      "outputs": [
        {
          "output_type": "stream",
          "name": "stdout",
          "text": [
            "[45, 99, 8, 3, 1]\n"
          ]
        }
      ]
    },
    {
      "cell_type": "code",
      "source": [
        "## for loop\n",
        "colours=['orange','red','blue','grey']\n",
        "for i in range(0, 4):\n",
        "  print(colours[i])"
      ],
      "metadata": {
        "colab": {
          "base_uri": "https://localhost:8080/"
        },
        "id": "tKz3kdutuP1V",
        "outputId": "30561005-5b74-445e-9b8e-cc0b7aa072b3"
      },
      "execution_count": null,
      "outputs": [
        {
          "output_type": "stream",
          "name": "stdout",
          "text": [
            "orange\n",
            "red\n",
            "blue\n",
            "grey\n"
          ]
        }
      ]
    },
    {
      "cell_type": "code",
      "source": [
        "## while loop\n",
        "colours=['orange','red','blue','grey']\n",
        "i=0\n",
        "while i<=3:\n",
        "  print(colours[i])\n",
        "  i=i+1"
      ],
      "metadata": {
        "colab": {
          "base_uri": "https://localhost:8080/"
        },
        "id": "byOnDfooul9s",
        "outputId": "d0281c00-e717-47f1-c425-4e19a5a26ec4"
      },
      "execution_count": null,
      "outputs": [
        {
          "output_type": "stream",
          "name": "stdout",
          "text": [
            "orange\n",
            "red\n",
            "blue\n",
            "grey\n"
          ]
        }
      ]
    },
    {
      "cell_type": "code",
      "source": [
        "## changing all elements in list into upper case\n",
        "colours=['orange','red','green','yellow']\n",
        "Colours=[i.upper() for i in colours]\n",
        "print(Colours)"
      ],
      "metadata": {
        "colab": {
          "base_uri": "https://localhost:8080/"
        },
        "id": "vWF1xkOYvJfG",
        "outputId": "371feae4-d32f-4a16-b6af-d68123fdd8eb"
      },
      "execution_count": null,
      "outputs": [
        {
          "output_type": "stream",
          "name": "stdout",
          "text": [
            "['ORANGE', 'RED', 'GREEN', 'YELLOW']\n"
          ]
        }
      ]
    },
    {
      "cell_type": "code",
      "source": [
        "## Copy list\n",
        "rainbow=['violet','indigo','blue','green','yellow','orange','red']\n",
        "colours=rainbow.copy()\n",
        "print(colours)"
      ],
      "metadata": {
        "colab": {
          "base_uri": "https://localhost:8080/"
        },
        "id": "LJWNnB5Owc10",
        "outputId": "976aeedb-e35d-4207-d043-ed22ea05dcb7"
      },
      "execution_count": null,
      "outputs": [
        {
          "output_type": "stream",
          "name": "stdout",
          "text": [
            "['violet', 'indigo', 'blue', 'green', 'yellow', 'orange', 'red']\n"
          ]
        }
      ]
    },
    {
      "cell_type": "code",
      "source": [
        "## Joining of lists\n",
        "colours=['red','blue','green','yellow']\n",
        "rainbow=['violet','indigo','blue','green','yellow','orange','red']\n",
        "print(colours+rainbow)"
      ],
      "metadata": {
        "colab": {
          "base_uri": "https://localhost:8080/"
        },
        "id": "gJbkmBbdw3G8",
        "outputId": "43e59547-35b8-4463-dbaa-74d5573b59a4"
      },
      "execution_count": null,
      "outputs": [
        {
          "output_type": "stream",
          "name": "stdout",
          "text": [
            "['red', 'blue', 'green', 'yellow', 'violet', 'indigo', 'blue', 'green', 'yellow', 'orange', 'red']\n"
          ]
        }
      ]
    },
    {
      "cell_type": "code",
      "source": [
        "## printing th index of an item\n",
        "colours=['orange','red','green','yellow']\n",
        "colours.index('green')"
      ],
      "metadata": {
        "colab": {
          "base_uri": "https://localhost:8080/"
        },
        "id": "EIqiAEHgxAXV",
        "outputId": "553ac81f-9ace-4b0e-9624-136d4f86f8a1"
      },
      "execution_count": null,
      "outputs": [
        {
          "output_type": "execute_result",
          "data": {
            "text/plain": [
              "2"
            ]
          },
          "metadata": {},
          "execution_count": 12
        }
      ]
    },
    {
      "cell_type": "code",
      "source": [
        "## changing an element\n",
        "colours=['orange','red','green','yellow']\n",
        "colours[2]='blue'\n",
        "print(colours)"
      ],
      "metadata": {
        "colab": {
          "base_uri": "https://localhost:8080/"
        },
        "id": "0qeIJ31YxRdU",
        "outputId": "9fa4cc73-911d-452e-dba6-685a8c7eadcc"
      },
      "execution_count": null,
      "outputs": [
        {
          "output_type": "stream",
          "name": "stdout",
          "text": [
            "['orange', 'red', 'blue', 'yellow']\n"
          ]
        }
      ]
    },
    {
      "cell_type": "code",
      "source": [
        "## replcing items\n",
        "colours=['orange','red','green','yellow']\n",
        "colours[1:4]=['grey']\n",
        "print(colours)"
      ],
      "metadata": {
        "colab": {
          "base_uri": "https://localhost:8080/"
        },
        "id": "iXpeNLPExW-R",
        "outputId": "e612efe5-a579-453e-aba3-3256195c85fc"
      },
      "execution_count": null,
      "outputs": [
        {
          "output_type": "stream",
          "name": "stdout",
          "text": [
            "['orange', 'grey']\n"
          ]
        }
      ]
    },
    {
      "cell_type": "code",
      "source": [
        ""
      ],
      "metadata": {
        "id": "RYrQNe7vaSUf"
      },
      "execution_count": null,
      "outputs": []
    },
    {
      "cell_type": "markdown",
      "source": [
        "## stings "
      ],
      "metadata": {
        "id": "EE4VlJm0Y598"
      }
    },
    {
      "cell_type": "code",
      "source": [
        "a=\"aravind reddy\"\n",
        "print(a.upper())\n",
        "b=\"ARAVIND REDDY\"\n",
        "print(b.lower())"
      ],
      "metadata": {
        "colab": {
          "base_uri": "https://localhost:8080/"
        },
        "id": "9P8nyCpUYJ2S",
        "outputId": "506d60d9-e269-4ba7-85f7-8387a73582e8"
      },
      "execution_count": null,
      "outputs": [
        {
          "output_type": "stream",
          "name": "stdout",
          "text": [
            "ARAVIND REDDY\n",
            "aravind reddy\n"
          ]
        }
      ]
    },
    {
      "cell_type": "markdown",
      "source": [
        "##strips"
      ],
      "metadata": {
        "id": "idY7tQsdZCQ5"
      }
    },
    {
      "cell_type": "code",
      "source": [
        "a=\"  hello,world\"\n",
        "print(a.strip())"
      ],
      "metadata": {
        "colab": {
          "base_uri": "https://localhost:8080/"
        },
        "id": "gG5z79kyZD8S",
        "outputId": "39d819b7-4ef0-4188-bc2c-8888abb1ceca"
      },
      "execution_count": null,
      "outputs": [
        {
          "output_type": "stream",
          "name": "stdout",
          "text": [
            "hello,world\n"
          ]
        }
      ]
    },
    {
      "cell_type": "markdown",
      "source": [
        "##replace"
      ],
      "metadata": {
        "id": "oFHISBSBaUf-"
      }
    },
    {
      "cell_type": "code",
      "source": [
        "a=\"rrr movie has been released\"\n",
        "print(a.replace(\"rrr\",\"radhe shyam\"))\n",
        "print(a)"
      ],
      "metadata": {
        "colab": {
          "base_uri": "https://localhost:8080/"
        },
        "id": "2m_yMAnnaWSa",
        "outputId": "e3c39808-6d20-4841-eaf9-0c14e2f471f9"
      },
      "execution_count": null,
      "outputs": [
        {
          "output_type": "stream",
          "name": "stdout",
          "text": [
            "radhe shyam movie has been released\n",
            "rrr movie has been released\n"
          ]
        }
      ]
    },
    {
      "cell_type": "code",
      "source": [
        "a=\"rrr movie has been released\"\n",
        "print(a.replace(\"e\",\"a\"))"
      ],
      "metadata": {
        "colab": {
          "base_uri": "https://localhost:8080/"
        },
        "id": "FJapQ8nCbFVh",
        "outputId": "ade5f3bf-b9cf-45ac-b9e7-7a06645502dc"
      },
      "execution_count": null,
      "outputs": [
        {
          "output_type": "stream",
          "name": "stdout",
          "text": [
            "rrr movia has baan ralaasad\n"
          ]
        }
      ]
    },
    {
      "cell_type": "code",
      "source": [
        "a=\"rrr movie has been released\"\n",
        "print(a.split(\" \"))"
      ],
      "metadata": {
        "colab": {
          "base_uri": "https://localhost:8080/"
        },
        "id": "KXiW1jOVbzmu",
        "outputId": "8e06f869-131b-4ca6-d714-7af7e1876620"
      },
      "execution_count": null,
      "outputs": [
        {
          "output_type": "stream",
          "name": "stdout",
          "text": [
            "['rrr', 'movie,', 'has', 'been', 'released']\n"
          ]
        }
      ]
    },
    {
      "cell_type": "markdown",
      "source": [
        "##conc strings"
      ],
      "metadata": {
        "id": "I8hfxqRQc6pF"
      }
    },
    {
      "cell_type": "code",
      "source": [
        "a=\"aravind\"\n",
        "b=\"reddy\"\n",
        "c=a+b\n",
        "print(c)"
      ],
      "metadata": {
        "colab": {
          "base_uri": "https://localhost:8080/"
        },
        "id": "WAxvx_cJc9Nz",
        "outputId": "6002f1ee-c96c-4f62-cfc0-d9d5858aa1f4"
      },
      "execution_count": null,
      "outputs": [
        {
          "output_type": "stream",
          "name": "stdout",
          "text": [
            "aravindreddy\n"
          ]
        }
      ]
    },
    {
      "cell_type": "code",
      "source": [
        "a=\"aravind\"\n",
        "b=\"99\"\n",
        "c=a+\" \"+b\n",
        "print(c)"
      ],
      "metadata": {
        "colab": {
          "base_uri": "https://localhost:8080/"
        },
        "id": "8ZfNZwa9d40D",
        "outputId": "d1291a07-7b66-46a4-993d-c5a79baf8a66"
      },
      "execution_count": null,
      "outputs": [
        {
          "output_type": "stream",
          "name": "stdout",
          "text": [
            "aravind 99\n"
          ]
        }
      ]
    },
    {
      "cell_type": "code",
      "source": [
        "a=\"aravind\"\n",
        "b=\"reddy\"\n",
        "print(a+\" \"+b)\n"
      ],
      "metadata": {
        "colab": {
          "base_uri": "https://localhost:8080/"
        },
        "id": "5F_YLiPpeuB_",
        "outputId": "13327514-a01c-4074-cd8b-bd68f43d27bf"
      },
      "execution_count": null,
      "outputs": [
        {
          "output_type": "stream",
          "name": "stdout",
          "text": [
            "aravind reddy\n"
          ]
        }
      ]
    },
    {
      "cell_type": "code",
      "source": [
        "a=1\n",
        "b=\"hello\"\n",
        "print(c.format (\"a+\" \"+b\"))\n",
        "print(c)\n"
      ],
      "metadata": {
        "colab": {
          "base_uri": "https://localhost:8080/"
        },
        "id": "5SdDSvCDgv2W",
        "outputId": "ae357a7e-4358-418b-d0fb-341e73530c34"
      },
      "execution_count": null,
      "outputs": [
        {
          "output_type": "stream",
          "name": "stdout",
          "text": [
            "aravind 99\n",
            "aravind 99\n"
          ]
        }
      ]
    },
    {
      "cell_type": "code",
      "source": [
        "a= \"hi\\naravind\"\n",
        "print(a)"
      ],
      "metadata": {
        "colab": {
          "base_uri": "https://localhost:8080/"
        },
        "id": "7WsimEIyjkWE",
        "outputId": "382aab41-702d-4313-855f-13c975f53df1"
      },
      "execution_count": null,
      "outputs": [
        {
          "output_type": "stream",
          "name": "stdout",
          "text": [
            "hi\n",
            "aravind\n"
          ]
        }
      ]
    },
    {
      "cell_type": "code",
      "source": [
        "a=\"rrr movie has been released\"\n",
        "print(a.replace(\"r\",\"R\"))\n"
      ],
      "metadata": {
        "colab": {
          "base_uri": "https://localhost:8080/"
        },
        "id": "fFmlfB7yqiqk",
        "outputId": "3c7793dd-2c21-43ff-e751-540c9e9334a7"
      },
      "execution_count": null,
      "outputs": [
        {
          "output_type": "stream",
          "name": "stdout",
          "text": [
            "RRR movie has been Released\n"
          ]
        }
      ]
    },
    {
      "cell_type": "code",
      "source": [
        "i=1\n",
        "while i<=4:\n",
        "  print(\"love u\")\n",
        "  i+=1"
      ],
      "metadata": {
        "colab": {
          "base_uri": "https://localhost:8080/"
        },
        "id": "KDADxV1TzBzi",
        "outputId": "e7840aaa-64b2-42da-ffb4-62cfc501b7a7"
      },
      "execution_count": null,
      "outputs": [
        {
          "output_type": "stream",
          "name": "stdout",
          "text": [
            "love u\n",
            "love u\n",
            "love u\n",
            "love u\n"
          ]
        }
      ]
    },
    {
      "cell_type": "code",
      "source": [
        "items=4\n",
        "quantity=2\n",
        "price=100\n",
        "myorder=\"i want{} of chocolates{}at rupees{} \"\n",
        "print(myorder.format(items,quantity,price))"
      ],
      "metadata": {
        "colab": {
          "base_uri": "https://localhost:8080/"
        },
        "id": "hLDA5wll0JEo",
        "outputId": "e771facc-235f-426c-eaa2-f463d63b9951"
      },
      "execution_count": null,
      "outputs": [
        {
          "output_type": "stream",
          "name": "stdout",
          "text": [
            "i want4 of chocolates2at rupees100 \n"
          ]
        }
      ]
    },
    {
      "cell_type": "markdown",
      "source": [
        "##"
      ],
      "metadata": {
        "id": "Oq6sv0mympZn"
      }
    },
    {
      "cell_type": "markdown",
      "source": [
        "print all items in list one by one use any variable for printing downwards"
      ],
      "metadata": {
        "id": "QLPXaOkMmsSh"
      }
    },
    {
      "cell_type": "code",
      "source": [
        "list=[\"apple\",\"banana\",\"cherry\"]\n",
        "for z in list:\n",
        "  print(z)\n",
        " "
      ],
      "metadata": {
        "colab": {
          "base_uri": "https://localhost:8080/"
        },
        "id": "Pw9J15E3mwg6",
        "outputId": "6adcac52-bfdb-4eba-829c-161a36cf6c5f"
      },
      "execution_count": null,
      "outputs": [
        {
          "output_type": "stream",
          "name": "stdout",
          "text": [
            "apple\n",
            "banana\n",
            "cherry\n"
          ]
        }
      ]
    },
    {
      "cell_type": "code",
      "source": [
        "list=[\"apple\",\"cherry\",\"banana\"]\n",
        "for z in list:\n",
        " print(z)"
      ],
      "metadata": {
        "colab": {
          "base_uri": "https://localhost:8080/"
        },
        "id": "c40Tv1a3sVgv",
        "outputId": "88789dad-afeb-4d42-ff5f-de35a6bacff2"
      },
      "execution_count": null,
      "outputs": [
        {
          "output_type": "stream",
          "name": "stdout",
          "text": [
            "apple\n",
            "cherry\n",
            "banana\n"
          ]
        }
      ]
    }
  ]
}